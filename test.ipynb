{
 "cells": [
  {
   "cell_type": "code",
   "execution_count": 11,
   "metadata": {},
   "outputs": [],
   "source": [
    "import pandas as pd\n",
    "import yfinance as yf"
   ]
  },
  {
   "cell_type": "code",
   "execution_count": 12,
   "metadata": {},
   "outputs": [],
   "source": [
    "proj_growth = [0.35, 0.25, 0.15]\n",
    "nvda = yf.Ticker('NVDA')"
   ]
  },
  {
   "cell_type": "code",
   "execution_count": 48,
   "metadata": {},
   "outputs": [
    {
     "data": {
      "text/html": [
       "<div>\n",
       "<style scoped>\n",
       "    .dataframe tbody tr th:only-of-type {\n",
       "        vertical-align: middle;\n",
       "    }\n",
       "\n",
       "    .dataframe tbody tr th {\n",
       "        vertical-align: top;\n",
       "    }\n",
       "\n",
       "    .dataframe thead th {\n",
       "        text-align: right;\n",
       "    }\n",
       "</style>\n",
       "<table border=\"1\" class=\"dataframe\">\n",
       "  <thead>\n",
       "    <tr style=\"text-align: right;\">\n",
       "      <th></th>\n",
       "      <th>2019-01-27</th>\n",
       "      <th>2020-01-26</th>\n",
       "      <th>2021-01-31</th>\n",
       "      <th>2022-01-30</th>\n",
       "    </tr>\n",
       "  </thead>\n",
       "  <tbody>\n",
       "    <tr>\n",
       "      <th>Total Cash From Operating Activities</th>\n",
       "      <td>3.743000e+09</td>\n",
       "      <td>4.761000e+09</td>\n",
       "      <td>5.822000e+09</td>\n",
       "      <td>9.108000e+09</td>\n",
       "    </tr>\n",
       "    <tr>\n",
       "      <th>CapEx</th>\n",
       "      <td>6.000000e+08</td>\n",
       "      <td>4.890000e+08</td>\n",
       "      <td>1.128000e+09</td>\n",
       "      <td>9.760000e+08</td>\n",
       "    </tr>\n",
       "  </tbody>\n",
       "</table>\n",
       "</div>"
      ],
      "text/plain": [
       "                                        2019-01-27    2020-01-26  \\\n",
       "Total Cash From Operating Activities  3.743000e+09  4.761000e+09   \n",
       "CapEx                                 6.000000e+08  4.890000e+08   \n",
       "\n",
       "                                        2021-01-31    2022-01-30  \n",
       "Total Cash From Operating Activities  5.822000e+09  9.108000e+09  \n",
       "CapEx                                 1.128000e+09  9.760000e+08  "
      ]
     },
     "execution_count": 48,
     "metadata": {},
     "output_type": "execute_result"
    }
   ],
   "source": [
    "op_cf = nvda.cashflow.loc['Total Cash From Operating Activities']\n",
    "capex = nvda.cashflow.loc['Capital Expenditures']\n",
    "# CapEx as % of operating cash flow\n",
    "pcnts_capex_op_cf = capex.multiply(-1).div(op_cf)\n",
    "avg_pcnt = pcnts_capex_op_cf.mean()\n",
    "df_prep = nvda.cashflow.loc[['Total Cash From Operating Activities']]\n",
    "df_prep.loc['CapEx'] = capex.multiply(-1)\n",
    "df_prep = df_prep[df_prep.columns[::-1]]\n",
    "df_prep\n"
   ]
  },
  {
   "cell_type": "code",
   "execution_count": 49,
   "metadata": {},
   "outputs": [
    {
     "data": {
      "text/html": [
       "<div>\n",
       "<style scoped>\n",
       "    .dataframe tbody tr th:only-of-type {\n",
       "        vertical-align: middle;\n",
       "    }\n",
       "\n",
       "    .dataframe tbody tr th {\n",
       "        vertical-align: top;\n",
       "    }\n",
       "\n",
       "    .dataframe thead th {\n",
       "        text-align: right;\n",
       "    }\n",
       "</style>\n",
       "<table border=\"1\" class=\"dataframe\">\n",
       "  <thead>\n",
       "    <tr style=\"text-align: right;\">\n",
       "      <th></th>\n",
       "      <th>2019-01-27 00:00:00</th>\n",
       "      <th>2020-01-26 00:00:00</th>\n",
       "      <th>2021-01-31 00:00:00</th>\n",
       "      <th>2022-01-30 00:00:00</th>\n",
       "      <th>1</th>\n",
       "      <th>2</th>\n",
       "      <th>3</th>\n",
       "    </tr>\n",
       "  </thead>\n",
       "  <tbody>\n",
       "    <tr>\n",
       "      <th>Total Cash From Operating Activities</th>\n",
       "      <td>3.743000e+09</td>\n",
       "      <td>4.761000e+09</td>\n",
       "      <td>5.822000e+09</td>\n",
       "      <td>9.108000e+09</td>\n",
       "      <td>1.229580e+10</td>\n",
       "      <td>1.536975e+10</td>\n",
       "      <td>1.767521e+10</td>\n",
       "    </tr>\n",
       "    <tr>\n",
       "      <th>CapEx</th>\n",
       "      <td>6.000000e+08</td>\n",
       "      <td>4.890000e+08</td>\n",
       "      <td>1.128000e+09</td>\n",
       "      <td>9.760000e+08</td>\n",
       "      <td>1.733447e+09</td>\n",
       "      <td>2.166809e+09</td>\n",
       "      <td>2.491830e+09</td>\n",
       "    </tr>\n",
       "  </tbody>\n",
       "</table>\n",
       "</div>"
      ],
      "text/plain": [
       "                                      2019-01-27 00:00:00  \\\n",
       "Total Cash From Operating Activities         3.743000e+09   \n",
       "CapEx                                        6.000000e+08   \n",
       "\n",
       "                                      2020-01-26 00:00:00  \\\n",
       "Total Cash From Operating Activities         4.761000e+09   \n",
       "CapEx                                        4.890000e+08   \n",
       "\n",
       "                                      2021-01-31 00:00:00  \\\n",
       "Total Cash From Operating Activities         5.822000e+09   \n",
       "CapEx                                        1.128000e+09   \n",
       "\n",
       "                                      2022-01-30 00:00:00             1  \\\n",
       "Total Cash From Operating Activities         9.108000e+09  1.229580e+10   \n",
       "CapEx                                        9.760000e+08  1.733447e+09   \n",
       "\n",
       "                                                 2             3  \n",
       "Total Cash From Operating Activities  1.536975e+10  1.767521e+10  \n",
       "CapEx                                 2.166809e+09  2.491830e+09  "
      ]
     },
     "execution_count": 49,
     "metadata": {},
     "output_type": "execute_result"
    }
   ],
   "source": [
    "for i in range(len(proj_growth)):\n",
    "    proj_op_cf = df_prep.iat[0, -1] * (1 + proj_growth[i])\n",
    "    proj_capex = avg_pcnt * proj_op_cf\n",
    "    df_prep[i + 1] = [proj_op_cf, proj_capex]\n",
    "df_prep"
   ]
  },
  {
   "cell_type": "code",
   "execution_count": 50,
   "metadata": {},
   "outputs": [
    {
     "data": {
      "text/html": [
       "<div>\n",
       "<style scoped>\n",
       "    .dataframe tbody tr th:only-of-type {\n",
       "        vertical-align: middle;\n",
       "    }\n",
       "\n",
       "    .dataframe tbody tr th {\n",
       "        vertical-align: top;\n",
       "    }\n",
       "\n",
       "    .dataframe thead th {\n",
       "        text-align: right;\n",
       "    }\n",
       "</style>\n",
       "<table border=\"1\" class=\"dataframe\">\n",
       "  <thead>\n",
       "    <tr style=\"text-align: right;\">\n",
       "      <th></th>\n",
       "      <th>2019-01-27 00:00:00</th>\n",
       "      <th>2020-01-26 00:00:00</th>\n",
       "      <th>2021-01-31 00:00:00</th>\n",
       "      <th>2022-01-30 00:00:00</th>\n",
       "      <th>1</th>\n",
       "      <th>2</th>\n",
       "      <th>3</th>\n",
       "    </tr>\n",
       "  </thead>\n",
       "  <tbody>\n",
       "    <tr>\n",
       "      <th>Total Cash From Operating Activities</th>\n",
       "      <td>3.743000e+09</td>\n",
       "      <td>4.761000e+09</td>\n",
       "      <td>5.822000e+09</td>\n",
       "      <td>9.108000e+09</td>\n",
       "      <td>1.229580e+10</td>\n",
       "      <td>1.536975e+10</td>\n",
       "      <td>1.767521e+10</td>\n",
       "    </tr>\n",
       "    <tr>\n",
       "      <th>CapEx</th>\n",
       "      <td>6.000000e+08</td>\n",
       "      <td>4.890000e+08</td>\n",
       "      <td>1.128000e+09</td>\n",
       "      <td>9.760000e+08</td>\n",
       "      <td>1.733447e+09</td>\n",
       "      <td>2.166809e+09</td>\n",
       "      <td>2.491830e+09</td>\n",
       "    </tr>\n",
       "    <tr>\n",
       "      <th>Free Cash Flow</th>\n",
       "      <td>4.343000e+09</td>\n",
       "      <td>5.250000e+09</td>\n",
       "      <td>6.950000e+09</td>\n",
       "      <td>1.008400e+10</td>\n",
       "      <td>1.402925e+10</td>\n",
       "      <td>1.753656e+10</td>\n",
       "      <td>2.016704e+10</td>\n",
       "    </tr>\n",
       "  </tbody>\n",
       "</table>\n",
       "</div>"
      ],
      "text/plain": [
       "                                      2019-01-27 00:00:00  \\\n",
       "Total Cash From Operating Activities         3.743000e+09   \n",
       "CapEx                                        6.000000e+08   \n",
       "Free Cash Flow                               4.343000e+09   \n",
       "\n",
       "                                      2020-01-26 00:00:00  \\\n",
       "Total Cash From Operating Activities         4.761000e+09   \n",
       "CapEx                                        4.890000e+08   \n",
       "Free Cash Flow                               5.250000e+09   \n",
       "\n",
       "                                      2021-01-31 00:00:00  \\\n",
       "Total Cash From Operating Activities         5.822000e+09   \n",
       "CapEx                                        1.128000e+09   \n",
       "Free Cash Flow                               6.950000e+09   \n",
       "\n",
       "                                      2022-01-30 00:00:00             1  \\\n",
       "Total Cash From Operating Activities         9.108000e+09  1.229580e+10   \n",
       "CapEx                                        9.760000e+08  1.733447e+09   \n",
       "Free Cash Flow                               1.008400e+10  1.402925e+10   \n",
       "\n",
       "                                                 2             3  \n",
       "Total Cash From Operating Activities  1.536975e+10  1.767521e+10  \n",
       "CapEx                                 2.166809e+09  2.491830e+09  \n",
       "Free Cash Flow                        1.753656e+10  2.016704e+10  "
      ]
     },
     "execution_count": 50,
     "metadata": {},
     "output_type": "execute_result"
    }
   ],
   "source": [
    "\n",
    "df_prep.loc['Free Cash Flow'] = df_prep.sum()\n",
    "df_prep"
   ]
  }
 ],
 "metadata": {
  "kernelspec": {
   "display_name": "Python 3.10.2 64-bit",
   "language": "python",
   "name": "python3"
  },
  "language_info": {
   "codemirror_mode": {
    "name": "ipython",
    "version": 3
   },
   "file_extension": ".py",
   "mimetype": "text/x-python",
   "name": "python",
   "nbconvert_exporter": "python",
   "pygments_lexer": "ipython3",
   "version": "3.10.2"
  },
  "orig_nbformat": 4,
  "vscode": {
   "interpreter": {
    "hash": "369f2c481f4da34e4445cda3fffd2e751bd1c4d706f27375911949ba6bb62e1c"
   }
  }
 },
 "nbformat": 4,
 "nbformat_minor": 2
}
