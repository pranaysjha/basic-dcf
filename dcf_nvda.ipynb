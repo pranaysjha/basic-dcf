{
 "cells": [
  {
   "cell_type": "code",
   "execution_count": 1,
   "metadata": {},
   "outputs": [],
   "source": [
    "from dcf import DCF"
   ]
  },
  {
   "cell_type": "code",
   "execution_count": 2,
   "metadata": {},
   "outputs": [],
   "source": [
    "symbol = 'NVDA'\n",
    "projected_growth = [0.35, 0.25, 0.15] # YoY\n",
    "terminal_growth = 0.025\n",
    "nvda = DCF(symbol, projected_growth, terminal_growth)"
   ]
  },
  {
   "cell_type": "code",
   "execution_count": 3,
   "metadata": {},
   "outputs": [
    {
     "data": {
      "text/plain": [
       "0.07472595164522598"
      ]
     },
     "execution_count": 3,
     "metadata": {},
     "output_type": "execute_result"
    }
   ],
   "source": [
    "nvda.wacc()"
   ]
  },
  {
   "cell_type": "code",
   "execution_count": 4,
   "metadata": {},
   "outputs": [
    {
     "data": {
      "text/html": [
       "<div>\n",
       "<style scoped>\n",
       "    .dataframe tbody tr th:only-of-type {\n",
       "        vertical-align: middle;\n",
       "    }\n",
       "\n",
       "    .dataframe tbody tr th {\n",
       "        vertical-align: top;\n",
       "    }\n",
       "\n",
       "    .dataframe thead th {\n",
       "        text-align: right;\n",
       "    }\n",
       "</style>\n",
       "<table border=\"1\" class=\"dataframe\">\n",
       "  <thead>\n",
       "    <tr style=\"text-align: right;\">\n",
       "      <th></th>\n",
       "      <th>2020-01-31 00:00:00</th>\n",
       "      <th>2021-01-31 00:00:00</th>\n",
       "      <th>2022-01-31 00:00:00</th>\n",
       "      <th>1</th>\n",
       "      <th>2</th>\n",
       "      <th>3</th>\n",
       "    </tr>\n",
       "  </thead>\n",
       "  <tbody>\n",
       "    <tr>\n",
       "      <th>Cash Flow From Continuing Operating Activities</th>\n",
       "      <td>4761000000.00</td>\n",
       "      <td>5822000000.00</td>\n",
       "      <td>9108000000.00</td>\n",
       "      <td>12295800000.00</td>\n",
       "      <td>15369750000.00</td>\n",
       "      <td>17675212500.00</td>\n",
       "    </tr>\n",
       "    <tr>\n",
       "      <th>CapEx</th>\n",
       "      <td>489000000.00</td>\n",
       "      <td>1128000000.00</td>\n",
       "      <td>976000000.00</td>\n",
       "      <td>1654260167.58</td>\n",
       "      <td>2067825209.48</td>\n",
       "      <td>2377998990.90</td>\n",
       "    </tr>\n",
       "    <tr>\n",
       "      <th>Free Cash Flow</th>\n",
       "      <td>5250000000.00</td>\n",
       "      <td>6950000000.00</td>\n",
       "      <td>10084000000.00</td>\n",
       "      <td>13950060167.58</td>\n",
       "      <td>17437575209.48</td>\n",
       "      <td>20053211490.90</td>\n",
       "    </tr>\n",
       "  </tbody>\n",
       "</table>\n",
       "</div>"
      ],
      "text/plain": [
       "                                               2020-01-31 00:00:00  \\\n",
       "Cash Flow From Continuing Operating Activities       4761000000.00   \n",
       "CapEx                                                 489000000.00   \n",
       "Free Cash Flow                                       5250000000.00   \n",
       "\n",
       "                                               2021-01-31 00:00:00  \\\n",
       "Cash Flow From Continuing Operating Activities       5822000000.00   \n",
       "CapEx                                                1128000000.00   \n",
       "Free Cash Flow                                       6950000000.00   \n",
       "\n",
       "                                               2022-01-31 00:00:00  \\\n",
       "Cash Flow From Continuing Operating Activities       9108000000.00   \n",
       "CapEx                                                 976000000.00   \n",
       "Free Cash Flow                                      10084000000.00   \n",
       "\n",
       "                                                            1              2  \\\n",
       "Cash Flow From Continuing Operating Activities 12295800000.00 15369750000.00   \n",
       "CapEx                                           1654260167.58  2067825209.48   \n",
       "Free Cash Flow                                 13950060167.58 17437575209.48   \n",
       "\n",
       "                                                            3  \n",
       "Cash Flow From Continuing Operating Activities 17675212500.00  \n",
       "CapEx                                           2377998990.90  \n",
       "Free Cash Flow                                 20053211490.90  "
      ]
     },
     "execution_count": 4,
     "metadata": {},
     "output_type": "execute_result"
    }
   ],
   "source": [
    "nvda.prep()"
   ]
  },
  {
   "cell_type": "code",
   "execution_count": 5,
   "metadata": {},
   "outputs": [
    {
     "data": {
      "text/html": [
       "<div>\n",
       "<style scoped>\n",
       "    .dataframe tbody tr th:only-of-type {\n",
       "        vertical-align: middle;\n",
       "    }\n",
       "\n",
       "    .dataframe tbody tr th {\n",
       "        vertical-align: top;\n",
       "    }\n",
       "\n",
       "    .dataframe thead th {\n",
       "        text-align: right;\n",
       "    }\n",
       "</style>\n",
       "<table border=\"1\" class=\"dataframe\">\n",
       "  <thead>\n",
       "    <tr style=\"text-align: right;\">\n",
       "      <th></th>\n",
       "      <th>2020-01-31 00:00:00</th>\n",
       "      <th>2021-01-31 00:00:00</th>\n",
       "      <th>2022-01-31 00:00:00</th>\n",
       "      <th>1</th>\n",
       "      <th>2</th>\n",
       "      <th>3</th>\n",
       "    </tr>\n",
       "  </thead>\n",
       "  <tbody>\n",
       "    <tr>\n",
       "      <th>Cash Flow From Continuing Operating Activities</th>\n",
       "      <td>4761000000.00</td>\n",
       "      <td>5822000000.00</td>\n",
       "      <td>9108000000.00</td>\n",
       "      <td>12295800000.00</td>\n",
       "      <td>15369750000.00</td>\n",
       "      <td>17675212500.00</td>\n",
       "    </tr>\n",
       "    <tr>\n",
       "      <th>CapEx</th>\n",
       "      <td>489000000.00</td>\n",
       "      <td>1128000000.00</td>\n",
       "      <td>976000000.00</td>\n",
       "      <td>1654260167.58</td>\n",
       "      <td>2067825209.48</td>\n",
       "      <td>2377998990.90</td>\n",
       "    </tr>\n",
       "    <tr>\n",
       "      <th>Free Cash Flow</th>\n",
       "      <td>5250000000.00</td>\n",
       "      <td>6950000000.00</td>\n",
       "      <td>10084000000.00</td>\n",
       "      <td>13950060167.58</td>\n",
       "      <td>17437575209.48</td>\n",
       "      <td>20053211490.90</td>\n",
       "    </tr>\n",
       "    <tr>\n",
       "      <th>Present Value of FCF</th>\n",
       "      <td>0</td>\n",
       "      <td>0</td>\n",
       "      <td>0</td>\n",
       "      <td>12980109158.27</td>\n",
       "      <td>15096998842.36</td>\n",
       "      <td>16154396050.58</td>\n",
       "    </tr>\n",
       "  </tbody>\n",
       "</table>\n",
       "</div>"
      ],
      "text/plain": [
       "                                               2020-01-31 00:00:00  \\\n",
       "Cash Flow From Continuing Operating Activities       4761000000.00   \n",
       "CapEx                                                 489000000.00   \n",
       "Free Cash Flow                                       5250000000.00   \n",
       "Present Value of FCF                                             0   \n",
       "\n",
       "                                               2021-01-31 00:00:00  \\\n",
       "Cash Flow From Continuing Operating Activities       5822000000.00   \n",
       "CapEx                                                1128000000.00   \n",
       "Free Cash Flow                                       6950000000.00   \n",
       "Present Value of FCF                                             0   \n",
       "\n",
       "                                               2022-01-31 00:00:00  \\\n",
       "Cash Flow From Continuing Operating Activities       9108000000.00   \n",
       "CapEx                                                 976000000.00   \n",
       "Free Cash Flow                                      10084000000.00   \n",
       "Present Value of FCF                                             0   \n",
       "\n",
       "                                                            1              2  \\\n",
       "Cash Flow From Continuing Operating Activities 12295800000.00 15369750000.00   \n",
       "CapEx                                           1654260167.58  2067825209.48   \n",
       "Free Cash Flow                                 13950060167.58 17437575209.48   \n",
       "Present Value of FCF                           12980109158.27 15096998842.36   \n",
       "\n",
       "                                                            3  \n",
       "Cash Flow From Continuing Operating Activities 17675212500.00  \n",
       "CapEx                                           2377998990.90  \n",
       "Free Cash Flow                                 20053211490.90  \n",
       "Present Value of FCF                           16154396050.58  "
      ]
     },
     "execution_count": 5,
     "metadata": {},
     "output_type": "execute_result"
    }
   ],
   "source": [
    "nvda.dcf()"
   ]
  },
  {
   "attachments": {},
   "cell_type": "markdown",
   "metadata": {},
   "source": [
    "Current Close Price (02/06/23): $210.89"
   ]
  },
  {
   "cell_type": "code",
   "execution_count": 6,
   "metadata": {},
   "outputs": [
    {
     "data": {
      "text/html": [
       "<div>\n",
       "<style scoped>\n",
       "    .dataframe tbody tr th:only-of-type {\n",
       "        vertical-align: middle;\n",
       "    }\n",
       "\n",
       "    .dataframe tbody tr th {\n",
       "        vertical-align: top;\n",
       "    }\n",
       "\n",
       "    .dataframe thead th {\n",
       "        text-align: right;\n",
       "    }\n",
       "</style>\n",
       "<table border=\"1\" class=\"dataframe\">\n",
       "  <thead>\n",
       "    <tr style=\"text-align: right;\">\n",
       "      <th></th>\n",
       "      <th>All numbers in dollars</th>\n",
       "    </tr>\n",
       "  </thead>\n",
       "  <tbody>\n",
       "    <tr>\n",
       "      <th>Terminal Value</th>\n",
       "      <td>413356428546.95</td>\n",
       "    </tr>\n",
       "    <tr>\n",
       "      <th>Present Value of Terminal Value</th>\n",
       "      <td>332990227516.93</td>\n",
       "    </tr>\n",
       "    <tr>\n",
       "      <th>Enterprise Value</th>\n",
       "      <td>377221731568.13</td>\n",
       "    </tr>\n",
       "    <tr>\n",
       "      <th>Cash</th>\n",
       "      <td>1990000000.00</td>\n",
       "    </tr>\n",
       "    <tr>\n",
       "      <th>Debt</th>\n",
       "      <td>10946000000.00</td>\n",
       "    </tr>\n",
       "    <tr>\n",
       "      <th>Equity Value</th>\n",
       "      <td>368265731568.13</td>\n",
       "    </tr>\n",
       "    <tr>\n",
       "      <th>Shares</th>\n",
       "      <td>2492000000.00</td>\n",
       "    </tr>\n",
       "    <tr>\n",
       "      <th>Implied Share Price</th>\n",
       "      <td>147.78</td>\n",
       "    </tr>\n",
       "  </tbody>\n",
       "</table>\n",
       "</div>"
      ],
      "text/plain": [
       "                                 All numbers in dollars\n",
       "Terminal Value                          413356428546.95\n",
       "Present Value of Terminal Value         332990227516.93\n",
       "Enterprise Value                        377221731568.13\n",
       "Cash                                      1990000000.00\n",
       "Debt                                     10946000000.00\n",
       "Equity Value                            368265731568.13\n",
       "Shares                                    2492000000.00\n",
       "Implied Share Price                              147.78"
      ]
     },
     "execution_count": 6,
     "metadata": {},
     "output_type": "execute_result"
    }
   ],
   "source": [
    "nvda.share_price()"
   ]
  }
 ],
 "metadata": {
  "kernelspec": {
   "display_name": "Python 3.10.2 64-bit",
   "language": "python",
   "name": "python3"
  },
  "language_info": {
   "codemirror_mode": {
    "name": "ipython",
    "version": 3
   },
   "file_extension": ".py",
   "mimetype": "text/x-python",
   "name": "python",
   "nbconvert_exporter": "python",
   "pygments_lexer": "ipython3",
   "version": "3.10.2"
  },
  "orig_nbformat": 4,
  "vscode": {
   "interpreter": {
    "hash": "369f2c481f4da34e4445cda3fffd2e751bd1c4d706f27375911949ba6bb62e1c"
   }
  }
 },
 "nbformat": 4,
 "nbformat_minor": 2
}
