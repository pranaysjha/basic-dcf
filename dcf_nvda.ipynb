{
 "cells": [
  {
   "cell_type": "code",
   "execution_count": 1,
   "metadata": {},
   "outputs": [],
   "source": [
    "import pandas as pd\n",
    "import yfinance as yf\n",
    "from dcf import DCF"
   ]
  },
  {
   "cell_type": "code",
   "execution_count": 2,
   "metadata": {},
   "outputs": [],
   "source": [
    "symbol = 'NVDA'\n",
    "proj_growth = [0.35, 0.25, 0.15]\n",
    "tgr = 0.025\n",
    "nvda = DCF(symbol, proj_growth, tgr)"
   ]
  },
  {
   "cell_type": "code",
   "execution_count": 3,
   "metadata": {},
   "outputs": [
    {
     "data": {
      "text/plain": [
       "0.06449237246424815"
      ]
     },
     "execution_count": 3,
     "metadata": {},
     "output_type": "execute_result"
    }
   ],
   "source": [
    "nvda.wacc()"
   ]
  },
  {
   "cell_type": "code",
   "execution_count": 4,
   "metadata": {},
   "outputs": [
    {
     "data": {
      "text/html": [
       "<div>\n",
       "<style scoped>\n",
       "    .dataframe tbody tr th:only-of-type {\n",
       "        vertical-align: middle;\n",
       "    }\n",
       "\n",
       "    .dataframe tbody tr th {\n",
       "        vertical-align: top;\n",
       "    }\n",
       "\n",
       "    .dataframe thead th {\n",
       "        text-align: right;\n",
       "    }\n",
       "</style>\n",
       "<table border=\"1\" class=\"dataframe\">\n",
       "  <thead>\n",
       "    <tr style=\"text-align: right;\">\n",
       "      <th></th>\n",
       "      <th>2019-01-27 00:00:00</th>\n",
       "      <th>2020-01-26 00:00:00</th>\n",
       "      <th>2021-01-31 00:00:00</th>\n",
       "      <th>2022-01-30 00:00:00</th>\n",
       "      <th>1</th>\n",
       "      <th>2</th>\n",
       "      <th>3</th>\n",
       "    </tr>\n",
       "  </thead>\n",
       "  <tbody>\n",
       "    <tr>\n",
       "      <th>Total Cash From Operating Activities</th>\n",
       "      <td>3743000000.00</td>\n",
       "      <td>4761000000.00</td>\n",
       "      <td>5822000000.00</td>\n",
       "      <td>9108000000.00</td>\n",
       "      <td>12295800000.00</td>\n",
       "      <td>15369750000.00</td>\n",
       "      <td>17675212500.00</td>\n",
       "    </tr>\n",
       "    <tr>\n",
       "      <th>CapEx</th>\n",
       "      <td>600000000.00</td>\n",
       "      <td>489000000.00</td>\n",
       "      <td>1128000000.00</td>\n",
       "      <td>976000000.00</td>\n",
       "      <td>1733446929.05</td>\n",
       "      <td>2166808661.31</td>\n",
       "      <td>2491829960.51</td>\n",
       "    </tr>\n",
       "    <tr>\n",
       "      <th>Free Cash Flow</th>\n",
       "      <td>4343000000.00</td>\n",
       "      <td>5250000000.00</td>\n",
       "      <td>6950000000.00</td>\n",
       "      <td>10084000000.00</td>\n",
       "      <td>14029246929.05</td>\n",
       "      <td>17536558661.31</td>\n",
       "      <td>20167042460.51</td>\n",
       "    </tr>\n",
       "  </tbody>\n",
       "</table>\n",
       "</div>"
      ],
      "text/plain": [
       "                                      2019-01-27 00:00:00  \\\n",
       "Total Cash From Operating Activities        3743000000.00   \n",
       "CapEx                                        600000000.00   \n",
       "Free Cash Flow                              4343000000.00   \n",
       "\n",
       "                                      2020-01-26 00:00:00  \\\n",
       "Total Cash From Operating Activities        4761000000.00   \n",
       "CapEx                                        489000000.00   \n",
       "Free Cash Flow                              5250000000.00   \n",
       "\n",
       "                                      2021-01-31 00:00:00  \\\n",
       "Total Cash From Operating Activities        5822000000.00   \n",
       "CapEx                                       1128000000.00   \n",
       "Free Cash Flow                              6950000000.00   \n",
       "\n",
       "                                      2022-01-30 00:00:00              1  \\\n",
       "Total Cash From Operating Activities        9108000000.00 12295800000.00   \n",
       "CapEx                                        976000000.00  1733446929.05   \n",
       "Free Cash Flow                             10084000000.00 14029246929.05   \n",
       "\n",
       "                                                  2              3  \n",
       "Total Cash From Operating Activities 15369750000.00 17675212500.00  \n",
       "CapEx                                 2166808661.31  2491829960.51  \n",
       "Free Cash Flow                       17536558661.31 20167042460.51  "
      ]
     },
     "execution_count": 4,
     "metadata": {},
     "output_type": "execute_result"
    }
   ],
   "source": [
    "nvda.prep()"
   ]
  },
  {
   "cell_type": "code",
   "execution_count": 5,
   "metadata": {},
   "outputs": [
    {
     "data": {
      "text/html": [
       "<div>\n",
       "<style scoped>\n",
       "    .dataframe tbody tr th:only-of-type {\n",
       "        vertical-align: middle;\n",
       "    }\n",
       "\n",
       "    .dataframe tbody tr th {\n",
       "        vertical-align: top;\n",
       "    }\n",
       "\n",
       "    .dataframe thead th {\n",
       "        text-align: right;\n",
       "    }\n",
       "</style>\n",
       "<table border=\"1\" class=\"dataframe\">\n",
       "  <thead>\n",
       "    <tr style=\"text-align: right;\">\n",
       "      <th></th>\n",
       "      <th>2019-01-27 00:00:00</th>\n",
       "      <th>2020-01-26 00:00:00</th>\n",
       "      <th>2021-01-31 00:00:00</th>\n",
       "      <th>2022-01-30 00:00:00</th>\n",
       "      <th>1</th>\n",
       "      <th>2</th>\n",
       "      <th>3</th>\n",
       "    </tr>\n",
       "  </thead>\n",
       "  <tbody>\n",
       "    <tr>\n",
       "      <th>Total Cash From Operating Activities</th>\n",
       "      <td>3743000000.00</td>\n",
       "      <td>4761000000.00</td>\n",
       "      <td>5822000000.00</td>\n",
       "      <td>9108000000.00</td>\n",
       "      <td>12295800000.00</td>\n",
       "      <td>15369750000.00</td>\n",
       "      <td>17675212500.00</td>\n",
       "    </tr>\n",
       "    <tr>\n",
       "      <th>CapEx</th>\n",
       "      <td>600000000.00</td>\n",
       "      <td>489000000.00</td>\n",
       "      <td>1128000000.00</td>\n",
       "      <td>976000000.00</td>\n",
       "      <td>1733446929.05</td>\n",
       "      <td>2166808661.31</td>\n",
       "      <td>2491829960.51</td>\n",
       "    </tr>\n",
       "    <tr>\n",
       "      <th>Free Cash Flow</th>\n",
       "      <td>4343000000.00</td>\n",
       "      <td>5250000000.00</td>\n",
       "      <td>6950000000.00</td>\n",
       "      <td>10084000000.00</td>\n",
       "      <td>14029246929.05</td>\n",
       "      <td>17536558661.31</td>\n",
       "      <td>20167042460.51</td>\n",
       "    </tr>\n",
       "    <tr>\n",
       "      <th>Present Value of FCF</th>\n",
       "      <td>0.00</td>\n",
       "      <td>0.00</td>\n",
       "      <td>0.00</td>\n",
       "      <td>0.00</td>\n",
       "      <td>13179283658.53</td>\n",
       "      <td>15476019367.83</td>\n",
       "      <td>16719163737.93</td>\n",
       "    </tr>\n",
       "  </tbody>\n",
       "</table>\n",
       "</div>"
      ],
      "text/plain": [
       "                                      2019-01-27 00:00:00  \\\n",
       "Total Cash From Operating Activities        3743000000.00   \n",
       "CapEx                                        600000000.00   \n",
       "Free Cash Flow                              4343000000.00   \n",
       "Present Value of FCF                                 0.00   \n",
       "\n",
       "                                      2020-01-26 00:00:00  \\\n",
       "Total Cash From Operating Activities        4761000000.00   \n",
       "CapEx                                        489000000.00   \n",
       "Free Cash Flow                              5250000000.00   \n",
       "Present Value of FCF                                 0.00   \n",
       "\n",
       "                                      2021-01-31 00:00:00  \\\n",
       "Total Cash From Operating Activities        5822000000.00   \n",
       "CapEx                                       1128000000.00   \n",
       "Free Cash Flow                              6950000000.00   \n",
       "Present Value of FCF                                 0.00   \n",
       "\n",
       "                                      2022-01-30 00:00:00              1  \\\n",
       "Total Cash From Operating Activities        9108000000.00 12295800000.00   \n",
       "CapEx                                        976000000.00  1733446929.05   \n",
       "Free Cash Flow                             10084000000.00 14029246929.05   \n",
       "Present Value of FCF                                 0.00 13179283658.53   \n",
       "\n",
       "                                                  2              3  \n",
       "Total Cash From Operating Activities 15369750000.00 17675212500.00  \n",
       "CapEx                                 2166808661.31  2491829960.51  \n",
       "Free Cash Flow                       17536558661.31 20167042460.51  \n",
       "Present Value of FCF                 15476019367.83 16719163737.93  "
      ]
     },
     "execution_count": 5,
     "metadata": {},
     "output_type": "execute_result"
    }
   ],
   "source": [
    "nvda.dcf()"
   ]
  },
  {
   "cell_type": "markdown",
   "metadata": {},
   "source": [
    "Current Share Price (10/24/22 9:15 AM PST): $125.04"
   ]
  },
  {
   "cell_type": "code",
   "execution_count": 6,
   "metadata": {},
   "outputs": [
    {
     "data": {
      "text/html": [
       "<div>\n",
       "<style scoped>\n",
       "    .dataframe tbody tr th:only-of-type {\n",
       "        vertical-align: middle;\n",
       "    }\n",
       "\n",
       "    .dataframe tbody tr th {\n",
       "        vertical-align: top;\n",
       "    }\n",
       "\n",
       "    .dataframe thead th {\n",
       "        text-align: right;\n",
       "    }\n",
       "</style>\n",
       "<table border=\"1\" class=\"dataframe\">\n",
       "  <thead>\n",
       "    <tr style=\"text-align: right;\">\n",
       "      <th></th>\n",
       "      <th>All numbers in dollars</th>\n",
       "    </tr>\n",
       "  </thead>\n",
       "  <tbody>\n",
       "    <tr>\n",
       "      <th>Terminal Value</th>\n",
       "      <td>523423062028.94</td>\n",
       "    </tr>\n",
       "    <tr>\n",
       "      <th>Present Value of Terminal Value</th>\n",
       "      <td>433935511139.33</td>\n",
       "    </tr>\n",
       "    <tr>\n",
       "      <th>Enterprise Value</th>\n",
       "      <td>479309977903.63</td>\n",
       "    </tr>\n",
       "    <tr>\n",
       "      <th>Cash</th>\n",
       "      <td>1990000000.00</td>\n",
       "    </tr>\n",
       "    <tr>\n",
       "      <th>Debt</th>\n",
       "      <td>10946000000.00</td>\n",
       "    </tr>\n",
       "    <tr>\n",
       "      <th>Equity Value</th>\n",
       "      <td>470353977903.63</td>\n",
       "    </tr>\n",
       "    <tr>\n",
       "      <th>Shares</th>\n",
       "      <td>2492000000.00</td>\n",
       "    </tr>\n",
       "    <tr>\n",
       "      <th>Implied Share Price</th>\n",
       "      <td>188.75</td>\n",
       "    </tr>\n",
       "  </tbody>\n",
       "</table>\n",
       "</div>"
      ],
      "text/plain": [
       "                                 All numbers in dollars\n",
       "Terminal Value                          523423062028.94\n",
       "Present Value of Terminal Value         433935511139.33\n",
       "Enterprise Value                        479309977903.63\n",
       "Cash                                      1990000000.00\n",
       "Debt                                     10946000000.00\n",
       "Equity Value                            470353977903.63\n",
       "Shares                                    2492000000.00\n",
       "Implied Share Price                              188.75"
      ]
     },
     "execution_count": 6,
     "metadata": {},
     "output_type": "execute_result"
    }
   ],
   "source": [
    "nvda.share_price()"
   ]
  }
 ],
 "metadata": {
  "kernelspec": {
   "display_name": "Python 3.10.2 64-bit",
   "language": "python",
   "name": "python3"
  },
  "language_info": {
   "codemirror_mode": {
    "name": "ipython",
    "version": 3
   },
   "file_extension": ".py",
   "mimetype": "text/x-python",
   "name": "python",
   "nbconvert_exporter": "python",
   "pygments_lexer": "ipython3",
   "version": "3.10.2"
  },
  "orig_nbformat": 4,
  "vscode": {
   "interpreter": {
    "hash": "369f2c481f4da34e4445cda3fffd2e751bd1c4d706f27375911949ba6bb62e1c"
   }
  }
 },
 "nbformat": 4,
 "nbformat_minor": 2
}
